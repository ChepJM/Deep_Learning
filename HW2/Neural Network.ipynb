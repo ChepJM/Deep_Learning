{
 "cells": [
  {
   "cell_type": "markdown",
   "metadata": {},
   "source": [
    "# Задание 2.1 - Нейронные сети\n",
    "\n",
    "В этом задании вы реализуете и натренируете настоящую нейроную сеть своими руками!\n",
    "\n",
    "В некотором смысле это будет расширением прошлого задания - нам нужно просто составить несколько линейных классификаторов вместе!\n",
    "\n",
    "<img src=\"https://i.redd.it/n9fgba8b0qr01.png\" alt=\"Stack_more_layers\" width=\"400px\"/>"
   ]
  },
  {
   "cell_type": "code",
   "execution_count": 170,
   "metadata": {},
   "outputs": [
    {
     "name": "stdout",
     "output_type": "stream",
     "text": [
      "The autoreload extension is already loaded. To reload it, use:\n",
      "  %reload_ext autoreload\n"
     ]
    }
   ],
   "source": [
    "import numpy as np\n",
    "import matplotlib.pyplot as plt\n",
    "\n",
    "%matplotlib inline\n",
    "\n",
    "%load_ext autoreload\n",
    "%autoreload 2"
   ]
  },
  {
   "cell_type": "code",
   "execution_count": 171,
   "metadata": {
    "collapsed": true
   },
   "outputs": [],
   "source": [
    "from dataset import load_svhn, random_split_train_val\n",
    "from gradient_check import check_layer_gradient, check_layer_param_gradient, check_model_gradient\n",
    "from layers import FullyConnectedLayer, ReLULayer\n",
    "from model import TwoLayerNet\n",
    "from trainer import Trainer, Dataset\n",
    "from optim import SGD, MomentumSGD\n",
    "from metrics import multiclass_accuracy"
   ]
  },
  {
   "cell_type": "markdown",
   "metadata": {},
   "source": [
    "# Загружаем данные\n",
    "\n",
    "И разделяем их на training и validation."
   ]
  },
  {
   "cell_type": "code",
   "execution_count": 172,
   "metadata": {
    "collapsed": true
   },
   "outputs": [],
   "source": [
    "def prepare_for_neural_network(train_X, test_X):\n",
    "    train_flat = train_X.reshape(train_X.shape[0], -1).astype(np.float) / 255.0\n",
    "    test_flat = test_X.reshape(test_X.shape[0], -1).astype(np.float) / 255.0\n",
    "    \n",
    "    # Subtract mean\n",
    "    mean_image = np.mean(train_flat, axis = 0)\n",
    "    train_flat -= mean_image\n",
    "    test_flat -= mean_image\n",
    "    \n",
    "    return train_flat, test_flat\n",
    "    \n",
    "train_X, train_y, test_X, test_y = load_svhn(\"data\", max_train=10000, max_test=1000)    \n",
    "train_X, test_X = prepare_for_neural_network(train_X, test_X)\n",
    "# Split train into train and val\n",
    "train_X, train_y, val_X, val_y = random_split_train_val(train_X, train_y, num_val = 1000)"
   ]
  },
  {
   "cell_type": "markdown",
   "metadata": {},
   "source": [
    "# Как всегда, начинаем с кирпичиков\n",
    "\n",
    "Мы будем реализовывать необходимые нам слои по очереди. Каждый слой должен реализовать:\n",
    "- прямой проход (forward pass), который генерирует выход слоя по входу и запоминает необходимые данные\n",
    "- обратный проход (backward pass), который получает градиент по выходу слоя и вычисляет градиент по входу и по параметрам\n",
    "\n",
    "Начнем с ReLU, у которого параметров нет."
   ]
  },
  {
   "cell_type": "code",
   "execution_count": 173,
   "metadata": {
    "scrolled": false
   },
   "outputs": [
    {
     "name": "stdout",
     "output_type": "stream",
     "text": [
      "Gradient check passed!\n"
     ]
    }
   ],
   "source": [
    "# TODO: Implement ReLULayer layer in layers.py\n",
    "# Note: you'll need to copy implementation of the gradient_check function from the previous assignment\n",
    "\n",
    "X = np.array([[1,-2,3],\n",
    "              [-1, 2, 0.1]\n",
    "              ])\n",
    "\n",
    "assert check_layer_gradient(ReLULayer(), X)"
   ]
  },
  {
   "cell_type": "markdown",
   "metadata": {},
   "source": [
    "А теперь реализуем полносвязный слой (fully connected layer), у которого будет два массива параметров: W (weights) и B (bias).\n",
    "\n",
    "Все параметры наши слои будут использовать для параметров специальный класс `Param`, в котором будут храниться значения параметров и градиенты этих параметров, вычисляемые во время обратного прохода.\n",
    "\n",
    "Это даст возможность аккумулировать (суммировать) градиенты из разных частей функции потерь, например, из cross-entropy loss и regularization loss."
   ]
  },
  {
   "cell_type": "code",
   "execution_count": 174,
   "metadata": {},
   "outputs": [
    {
     "name": "stdout",
     "output_type": "stream",
     "text": [
      "Gradient check passed!\n",
      "Gradient check passed!\n",
      "Gradient check passed!\n"
     ]
    }
   ],
   "source": [
    "# TODO: Implement FullyConnected layer forward and backward methods\n",
    "assert check_layer_gradient(FullyConnectedLayer(3, 4), X)\n",
    "# TODO: Implement storing gradients for W and B\n",
    "assert check_layer_param_gradient(FullyConnectedLayer(3, 4), X, 'W')\n",
    "assert check_layer_param_gradient(FullyConnectedLayer(3, 4), X, 'B')"
   ]
  },
  {
   "cell_type": "markdown",
   "metadata": {},
   "source": [
    "## Создаем нейронную сеть\n",
    "\n",
    "Теперь мы реализуем простейшую нейронную сеть с двумя полносвязным слоями и нелинейностью ReLU. Реализуйте функцию `compute_loss_and_gradients`, она должна запустить прямой и обратный проход через оба слоя для вычисления градиентов.\n",
    "\n",
    "Не забудьте реализовать очистку градиентов в начале функции."
   ]
  },
  {
   "cell_type": "code",
   "execution_count": 175,
   "metadata": {},
   "outputs": [
    {
     "name": "stdout",
     "output_type": "stream",
     "text": [
      "Checking gradient for (0, 'W')\n",
      "Gradient check passed!\n",
      "Checking gradient for (0, 'B')\n",
      "Gradient check passed!\n",
      "Checking gradient for (2, 'W')\n",
      "Gradient check passed!\n",
      "Checking gradient for (2, 'B')\n",
      "Gradient check passed!\n"
     ]
    },
    {
     "data": {
      "text/plain": [
       "True"
      ]
     },
     "execution_count": 175,
     "metadata": {},
     "output_type": "execute_result"
    }
   ],
   "source": [
    "# TODO: In model.py, implement compute_loss_and_gradients function\n",
    "model = TwoLayerNet(n_input = train_X.shape[1], n_output = 10, hidden_layer_size = 3, reg = 0)\n",
    "loss = model.compute_loss_and_gradients(train_X[:2], train_y[:2])\n",
    "\n",
    "# TODO Now implement backward pass and aggregate all of the params\n",
    "check_model_gradient(model, train_X[:2], train_y[:2])"
   ]
  },
  {
   "cell_type": "markdown",
   "metadata": {},
   "source": [
    "Теперь добавьте к модели регуляризацию - она должна прибавляться к loss и делать свой вклад в градиенты."
   ]
  },
  {
   "cell_type": "code",
   "execution_count": 9,
   "metadata": {},
   "outputs": [
    {
     "name": "stdout",
     "output_type": "stream",
     "text": [
      "Checking gradient for (0, 'W')\n",
      "Gradient check passed!\n",
      "Checking gradient for (0, 'B')\n",
      "Gradient check passed!\n",
      "Checking gradient for (2, 'W')\n",
      "Gradient check passed!\n",
      "Checking gradient for (2, 'B')\n",
      "Gradient check passed!\n"
     ]
    },
    {
     "data": {
      "text/plain": [
       "True"
      ]
     },
     "execution_count": 9,
     "metadata": {},
     "output_type": "execute_result"
    }
   ],
   "source": [
    "# TODO Now implement l2 regularization in the forward and backward pass\n",
    "model_with_reg = TwoLayerNet(n_input = train_X.shape[1], n_output = 10, hidden_layer_size = 3, reg = 1e1)\n",
    "loss_with_reg = model_with_reg.compute_loss_and_gradients(train_X[:2], train_y[:2])\n",
    "assert loss_with_reg > loss and not np.isclose(loss_with_reg, loss), \\\n",
    "    \"Loss with regularization (%2.4f) should be higher than without it (%2.4f)!\" % (loss, loss_with_reg)\n",
    "\n",
    "check_model_gradient(model_with_reg, train_X[:2], train_y[:2])"
   ]
  },
  {
   "cell_type": "markdown",
   "metadata": {},
   "source": [
    "Также реализуем функцию предсказания (вычисления значения) модели на новых данных.\n",
    "\n",
    "Какое значение точности мы ожидаем увидеть до начала тренировки?"
   ]
  },
  {
   "cell_type": "code",
   "execution_count": 176,
   "metadata": {
    "scrolled": true
   },
   "outputs": [
    {
     "data": {
      "text/plain": [
       "0.1"
      ]
     },
     "execution_count": 176,
     "metadata": {},
     "output_type": "execute_result"
    }
   ],
   "source": [
    "# Finally, implement predict function!\n",
    "\n",
    "# TODO: Implement predict function\n",
    "# What would be the value we expect?\n",
    "multiclass_accuracy(model_with_reg.predict(train_X[:30]), train_y[:30]) "
   ]
  },
  {
   "cell_type": "markdown",
   "metadata": {},
   "source": [
    "# Допишем код для процесса тренировки\n",
    "\n",
    "Если все реализовано корректно, значение функции ошибки должно уменьшаться с каждой эпохой, пусть и медленно. Не беспокойтесь пока про validation accuracy."
   ]
  },
  {
   "cell_type": "code",
   "execution_count": 177,
   "metadata": {},
   "outputs": [
    {
     "name": "stdout",
     "output_type": "stream",
     "text": [
      "Loss: 43.743880, Train accuracy: 0.196667, val accuracy: 0.206000\n"
     ]
    },
    {
     "ename": "KeyboardInterrupt",
     "evalue": "",
     "output_type": "error",
     "traceback": [
      "\u001b[1;31m---------------------------------------------------------------------------\u001b[0m",
      "\u001b[1;31mKeyboardInterrupt\u001b[0m                         Traceback (most recent call last)",
      "\u001b[1;32m<ipython-input-177-8dc0e3f02b72>\u001b[0m in \u001b[0;36m<module>\u001b[1;34m()\u001b[0m\n\u001b[0;32m      5\u001b[0m \u001b[1;31m# TODO Implement missing pieces in Trainer.fit function\u001b[0m\u001b[1;33m\u001b[0m\u001b[1;33m\u001b[0m\u001b[0m\n\u001b[0;32m      6\u001b[0m \u001b[1;31m# You should expect loss to go down every epoch, even if it's slow\u001b[0m\u001b[1;33m\u001b[0m\u001b[1;33m\u001b[0m\u001b[0m\n\u001b[1;32m----> 7\u001b[1;33m \u001b[0mloss_history\u001b[0m\u001b[1;33m,\u001b[0m \u001b[0mtrain_history\u001b[0m\u001b[1;33m,\u001b[0m \u001b[0mval_history\u001b[0m \u001b[1;33m=\u001b[0m \u001b[0mtrainer\u001b[0m\u001b[1;33m.\u001b[0m\u001b[0mfit\u001b[0m\u001b[1;33m(\u001b[0m\u001b[1;33m)\u001b[0m\u001b[1;33m\u001b[0m\u001b[0m\n\u001b[0m",
      "\u001b[1;32mC:\\Users\\18888333\\Documents\\HW2\\trainer.py\u001b[0m in \u001b[0;36mfit\u001b[1;34m(self)\u001b[0m\n\u001b[0;32m    102\u001b[0m                 \u001b[0mX_batch\u001b[0m \u001b[1;33m=\u001b[0m \u001b[0mself\u001b[0m\u001b[1;33m.\u001b[0m\u001b[0mdataset\u001b[0m\u001b[1;33m.\u001b[0m\u001b[0mtrain_X\u001b[0m\u001b[1;33m[\u001b[0m\u001b[0mbatch_indices\u001b[0m\u001b[1;33m]\u001b[0m\u001b[1;33m\u001b[0m\u001b[0m\n\u001b[0;32m    103\u001b[0m                 \u001b[0my_batch\u001b[0m \u001b[1;33m=\u001b[0m \u001b[0mself\u001b[0m\u001b[1;33m.\u001b[0m\u001b[0mdataset\u001b[0m\u001b[1;33m.\u001b[0m\u001b[0mtrain_y\u001b[0m\u001b[1;33m[\u001b[0m\u001b[0mbatch_indices\u001b[0m\u001b[1;33m]\u001b[0m\u001b[1;33m\u001b[0m\u001b[0m\n\u001b[1;32m--> 104\u001b[1;33m                 \u001b[0mloss\u001b[0m \u001b[1;33m=\u001b[0m \u001b[0mself\u001b[0m\u001b[1;33m.\u001b[0m\u001b[0mmodel\u001b[0m\u001b[1;33m.\u001b[0m\u001b[0mcompute_loss_and_gradients\u001b[0m\u001b[1;33m(\u001b[0m\u001b[0mX_batch\u001b[0m\u001b[1;33m,\u001b[0m \u001b[0my_batch\u001b[0m\u001b[1;33m)\u001b[0m\u001b[1;33m\u001b[0m\u001b[0m\n\u001b[0m\u001b[0;32m    105\u001b[0m \u001b[1;33m\u001b[0m\u001b[0m\n\u001b[0;32m    106\u001b[0m                 \u001b[1;32mfor\u001b[0m \u001b[0mparam_name\u001b[0m\u001b[1;33m,\u001b[0m \u001b[0mparam\u001b[0m \u001b[1;32min\u001b[0m \u001b[0mself\u001b[0m\u001b[1;33m.\u001b[0m\u001b[0mmodel\u001b[0m\u001b[1;33m.\u001b[0m\u001b[0mparams\u001b[0m\u001b[1;33m(\u001b[0m\u001b[1;33m)\u001b[0m\u001b[1;33m.\u001b[0m\u001b[0mitems\u001b[0m\u001b[1;33m(\u001b[0m\u001b[1;33m)\u001b[0m\u001b[1;33m:\u001b[0m\u001b[1;33m\u001b[0m\u001b[0m\n",
      "\u001b[1;32mC:\\Users\\18888333\\Documents\\HW2\\model.py\u001b[0m in \u001b[0;36mcompute_loss_and_gradients\u001b[1;34m(self, X, y)\u001b[0m\n\u001b[0;32m     43\u001b[0m                 \u001b[0mlayer\u001b[0m\u001b[1;33m.\u001b[0m\u001b[0mW\u001b[0m\u001b[1;33m.\u001b[0m\u001b[0mgrad\u001b[0m \u001b[1;33m=\u001b[0m \u001b[1;36m0\u001b[0m\u001b[1;33m\u001b[0m\u001b[0m\n\u001b[0;32m     44\u001b[0m                 \u001b[0mlayer\u001b[0m\u001b[1;33m.\u001b[0m\u001b[0mB\u001b[0m\u001b[1;33m.\u001b[0m\u001b[0mgrad\u001b[0m \u001b[1;33m=\u001b[0m \u001b[1;36m0\u001b[0m\u001b[1;33m\u001b[0m\u001b[0m\n\u001b[1;32m---> 45\u001b[1;33m             \u001b[0m_X\u001b[0m \u001b[1;33m=\u001b[0m \u001b[0mlayer\u001b[0m\u001b[1;33m.\u001b[0m\u001b[0mforward\u001b[0m\u001b[1;33m(\u001b[0m\u001b[0m_X\u001b[0m\u001b[1;33m)\u001b[0m\u001b[1;33m\u001b[0m\u001b[0m\n\u001b[0m\u001b[0;32m     46\u001b[0m \u001b[1;33m\u001b[0m\u001b[0m\n\u001b[0;32m     47\u001b[0m         \u001b[0mloss\u001b[0m\u001b[1;33m,\u001b[0m \u001b[0mgrads\u001b[0m \u001b[1;33m=\u001b[0m \u001b[0msoftmax_with_cross_entropy\u001b[0m\u001b[1;33m(\u001b[0m\u001b[0m_X\u001b[0m\u001b[1;33m,\u001b[0m \u001b[0my\u001b[0m\u001b[1;33m)\u001b[0m\u001b[1;33m\u001b[0m\u001b[0m\n",
      "\u001b[1;32mC:\\Users\\18888333\\Documents\\HW2\\layers.py\u001b[0m in \u001b[0;36mforward\u001b[1;34m(self, X)\u001b[0m\n\u001b[0;32m    156\u001b[0m         \u001b[1;31m# Your final implementation shouldn't have any loops\u001b[0m\u001b[1;33m\u001b[0m\u001b[1;33m\u001b[0m\u001b[0m\n\u001b[0;32m    157\u001b[0m         \u001b[0mself\u001b[0m\u001b[1;33m.\u001b[0m\u001b[0mX\u001b[0m \u001b[1;33m=\u001b[0m \u001b[0mX\u001b[0m\u001b[1;33m.\u001b[0m\u001b[0mcopy\u001b[0m\u001b[1;33m(\u001b[0m\u001b[1;33m)\u001b[0m\u001b[1;33m\u001b[0m\u001b[0m\n\u001b[1;32m--> 158\u001b[1;33m         \u001b[1;32mreturn\u001b[0m \u001b[0mX\u001b[0m\u001b[1;33m.\u001b[0m\u001b[0mdot\u001b[0m\u001b[1;33m(\u001b[0m\u001b[0mself\u001b[0m\u001b[1;33m.\u001b[0m\u001b[0mW\u001b[0m\u001b[1;33m.\u001b[0m\u001b[0mvalue\u001b[0m\u001b[1;33m)\u001b[0m \u001b[1;33m+\u001b[0m \u001b[0mself\u001b[0m\u001b[1;33m.\u001b[0m\u001b[0mB\u001b[0m\u001b[1;33m.\u001b[0m\u001b[0mvalue\u001b[0m\u001b[1;33m\u001b[0m\u001b[0m\n\u001b[0m\u001b[0;32m    159\u001b[0m \u001b[1;33m\u001b[0m\u001b[0m\n\u001b[0;32m    160\u001b[0m     \u001b[1;32mdef\u001b[0m \u001b[0mbackward\u001b[0m\u001b[1;33m(\u001b[0m\u001b[0mself\u001b[0m\u001b[1;33m,\u001b[0m \u001b[0md_out\u001b[0m\u001b[1;33m)\u001b[0m\u001b[1;33m:\u001b[0m\u001b[1;33m\u001b[0m\u001b[0m\n",
      "\u001b[1;31mKeyboardInterrupt\u001b[0m: "
     ]
    }
   ],
   "source": [
    "model = TwoLayerNet(n_input = train_X.shape[1], n_output = 10, hidden_layer_size = 100, reg = 1e1)\n",
    "dataset = Dataset(train_X, train_y, val_X, val_y)\n",
    "trainer = Trainer(model, dataset, SGD(), learning_rate = 1e-2)\n",
    "\n",
    "# TODO Implement missing pieces in Trainer.fit function\n",
    "# You should expect loss to go down every epoch, even if it's slow\n",
    "loss_history, train_history, val_history = trainer.fit()"
   ]
  },
  {
   "cell_type": "code",
   "execution_count": 111,
   "metadata": {},
   "outputs": [
    {
     "data": {
      "text/plain": [
       "[<matplotlib.lines.Line2D at 0x17ec24931d0>]"
      ]
     },
     "execution_count": 111,
     "metadata": {},
     "output_type": "execute_result"
    },
    {
     "data": {
      "image/png": "[encoded data removed]",
      "text/plain": [
       "<matplotlib.figure.Figure at 0x17ec24533c8>"
      ]
     },
     "metadata": {},
     "output_type": "display_data"
    }
   ],
   "source": [
    "plt.plot(train_history)\n",
    "plt.plot(val_history)"
   ]
  },
  {
   "cell_type": "markdown",
   "metadata": {},
   "source": [
    "# Улучшаем процесс тренировки\n",
    "\n",
    "Мы реализуем несколько ключевых оптимизаций, необходимых для тренировки современных нейросетей."
   ]
  },
  {
   "cell_type": "markdown",
   "metadata": {},
   "source": [
    "## Уменьшение скорости обучения (learning rate decay)\n",
    "\n",
    "Одна из необходимых оптимизаций во время тренировки нейронных сетей - постепенное уменьшение скорости обучения по мере тренировки.\n",
    "\n",
    "Один из стандартных методов - уменьшение скорости обучения (learning rate) каждые N эпох на коэффициент d (часто называемый decay). Значения N и d, как всегда, являются гиперпараметрами и должны подбираться на основе эффективности на проверочных данных (validation data). \n",
    "\n",
    "В нашем случае N будет равным 1."
   ]
  },
  {
   "cell_type": "code",
   "execution_count": 185,
   "metadata": {},
   "outputs": [
    {
     "name": "stdout",
     "output_type": "stream",
     "text": [
      "Loss: 39.131796, Train accuracy: 0.298889, val accuracy: 0.302000\n",
      "Loss: 39.588697, Train accuracy: 0.475667, val accuracy: 0.468000\n",
      "Loss: 32.908086, Train accuracy: 0.477444, val accuracy: 0.481000\n",
      "Loss: 37.058771, Train accuracy: 0.601222, val accuracy: 0.594000\n",
      "Loss: 37.847588, Train accuracy: 0.600889, val accuracy: 0.601000\n",
      "Loss: 34.035028, Train accuracy: 0.548111, val accuracy: 0.531000\n",
      "Loss: 38.098896, Train accuracy: 0.643333, val accuracy: 0.628000\n",
      "Loss: 36.217171, Train accuracy: 0.602444, val accuracy: 0.599000\n",
      "Loss: 28.595014, Train accuracy: 0.592667, val accuracy: 0.587000\n",
      "Loss: 41.493299, Train accuracy: 0.601222, val accuracy: 0.596000\n",
      "Loss: 34.769007, Train accuracy: 0.553333, val accuracy: 0.547000\n",
      "Loss: 27.633100, Train accuracy: 0.596889, val accuracy: 0.586000\n",
      "Loss: 28.788873, Train accuracy: 0.611667, val accuracy: 0.612000\n",
      "Loss: 35.896470, Train accuracy: 0.600222, val accuracy: 0.591000\n",
      "Loss: 35.069728, Train accuracy: 0.611667, val accuracy: 0.589000\n",
      "Loss: 35.815381, Train accuracy: 0.602556, val accuracy: 0.597000\n",
      "Loss: 37.132562, Train accuracy: 0.546444, val accuracy: 0.527000\n",
      "Loss: 37.184411, Train accuracy: 0.582000, val accuracy: 0.584000\n",
      "Loss: 41.528656, Train accuracy: 0.613111, val accuracy: 0.597000\n",
      "Loss: 33.528755, Train accuracy: 0.629222, val accuracy: 0.630000\n"
     ]
    }
   ],
   "source": [
    "# TODO Implement learning rate decay inside Trainer.fit method\n",
    "# Decay should happen once per epoch\n",
    "\n",
    "model = TwoLayerNet(n_input = train_X.shape[1], n_output = 10, hidden_layer_size = 100, reg = 1e-1)\n",
    "dataset = Dataset(train_X, train_y, val_X, val_y)\n",
    "trainer = Trainer(model, dataset, SGD(), learning_rate_decay=0.99)\n",
    "\n",
    "initial_learning_rate = trainer.learning_rate\n",
    "loss_history, train_history, val_history = trainer.fit()\n",
    "\n",
    "assert trainer.learning_rate < initial_learning_rate, \"Learning rate should've been reduced\"\n",
    "assert trainer.learning_rate > 0.5*initial_learning_rate, \"Learning rate shouldn'tve been reduced that much!\""
   ]
  },
  {
   "cell_type": "markdown",
   "metadata": {},
   "source": [
    "# Накопление импульса (Momentum SGD)\n",
    "\n",
    "Другой большой класс оптимизаций - использование более эффективных методов градиентного спуска. Мы реализуем один из них - накопление импульса (Momentum SGD).\n",
    "\n",
    "Этот метод хранит скорость движения, использует градиент для ее изменения на каждом шаге, и изменяет веса пропорционально значению скорости.\n",
    "(Физическая аналогия: Вместо скорости градиенты теперь будут задавать ускорение, но будет присутствовать сила трения.)\n",
    "\n",
    "```\n",
    "velocity = momentum * velocity - learning_rate * gradient \n",
    "w = w + velocity\n",
    "```\n",
    "\n",
    "`momentum` здесь коэффициент затухания, который тоже является гиперпараметром (к счастью, для него часто есть хорошее значение по умолчанию, типичный диапазон -- 0.8-0.99).\n",
    "\n",
    "Несколько полезных ссылок, где метод разбирается более подробно:  \n",
    "http://cs231n.github.io/neural-networks-3/#sgd  \n",
    "https://distill.pub/2017/momentum/"
   ]
  },
  {
   "cell_type": "code",
   "execution_count": 169,
   "metadata": {},
   "outputs": [
    {
     "name": "stdout",
     "output_type": "stream",
     "text": [
      "Loss: 46.189893, Train accuracy: 0.196667, val accuracy: 0.206000\n",
      "Loss: 44.903952, Train accuracy: 0.196667, val accuracy: 0.206000\n",
      "Loss: 43.141242, Train accuracy: 0.196667, val accuracy: 0.206000\n"
     ]
    },
    {
     "ename": "KeyboardInterrupt",
     "evalue": "",
     "output_type": "error",
     "traceback": [
      "\u001b[1;31m---------------------------------------------------------------------------\u001b[0m",
      "\u001b[1;31mKeyboardInterrupt\u001b[0m                         Traceback (most recent call last)",
      "\u001b[1;32m<ipython-input-169-95b05c0d8a5d>\u001b[0m in \u001b[0;36m<module>\u001b[1;34m()\u001b[0m\n\u001b[0;32m      6\u001b[0m \u001b[1;33m\u001b[0m\u001b[0m\n\u001b[0;32m      7\u001b[0m \u001b[1;31m# You should see even better results than before!\u001b[0m\u001b[1;33m\u001b[0m\u001b[1;33m\u001b[0m\u001b[0m\n\u001b[1;32m----> 8\u001b[1;33m \u001b[0mloss_history\u001b[0m\u001b[1;33m,\u001b[0m \u001b[0mtrain_history\u001b[0m\u001b[1;33m,\u001b[0m \u001b[0mval_history\u001b[0m \u001b[1;33m=\u001b[0m \u001b[0mtrainer\u001b[0m\u001b[1;33m.\u001b[0m\u001b[0mfit\u001b[0m\u001b[1;33m(\u001b[0m\u001b[1;33m)\u001b[0m\u001b[1;33m\u001b[0m\u001b[0m\n\u001b[0m",
      "\u001b[1;32mC:\\Users\\18888333\\Documents\\HW2\\trainer.py\u001b[0m in \u001b[0;36mfit\u001b[1;34m(self)\u001b[0m\n\u001b[0;32m    102\u001b[0m                 \u001b[0mX_batch\u001b[0m \u001b[1;33m=\u001b[0m \u001b[0mself\u001b[0m\u001b[1;33m.\u001b[0m\u001b[0mdataset\u001b[0m\u001b[1;33m.\u001b[0m\u001b[0mtrain_X\u001b[0m\u001b[1;33m[\u001b[0m\u001b[0mbatch_indices\u001b[0m\u001b[1;33m]\u001b[0m\u001b[1;33m\u001b[0m\u001b[0m\n\u001b[0;32m    103\u001b[0m                 \u001b[0my_batch\u001b[0m \u001b[1;33m=\u001b[0m \u001b[0mself\u001b[0m\u001b[1;33m.\u001b[0m\u001b[0mdataset\u001b[0m\u001b[1;33m.\u001b[0m\u001b[0mtrain_y\u001b[0m\u001b[1;33m[\u001b[0m\u001b[0mbatch_indices\u001b[0m\u001b[1;33m]\u001b[0m\u001b[1;33m\u001b[0m\u001b[0m\n\u001b[1;32m--> 104\u001b[1;33m                 \u001b[0mloss\u001b[0m \u001b[1;33m=\u001b[0m \u001b[0mself\u001b[0m\u001b[1;33m.\u001b[0m\u001b[0mmodel\u001b[0m\u001b[1;33m.\u001b[0m\u001b[0mcompute_loss_and_gradients\u001b[0m\u001b[1;33m(\u001b[0m\u001b[0mX_batch\u001b[0m\u001b[1;33m,\u001b[0m \u001b[0my_batch\u001b[0m\u001b[1;33m)\u001b[0m\u001b[1;33m\u001b[0m\u001b[0m\n\u001b[0m\u001b[0;32m    105\u001b[0m \u001b[1;33m\u001b[0m\u001b[0m\n\u001b[0;32m    106\u001b[0m                 \u001b[1;32mfor\u001b[0m \u001b[0mparam_name\u001b[0m\u001b[1;33m,\u001b[0m \u001b[0mparam\u001b[0m \u001b[1;32min\u001b[0m \u001b[0mself\u001b[0m\u001b[1;33m.\u001b[0m\u001b[0mmodel\u001b[0m\u001b[1;33m.\u001b[0m\u001b[0mparams\u001b[0m\u001b[1;33m(\u001b[0m\u001b[1;33m)\u001b[0m\u001b[1;33m.\u001b[0m\u001b[0mitems\u001b[0m\u001b[1;33m(\u001b[0m\u001b[1;33m)\u001b[0m\u001b[1;33m:\u001b[0m\u001b[1;33m\u001b[0m\u001b[0m\n",
      "\u001b[1;32mC:\\Users\\18888333\\Documents\\HW2\\model.py\u001b[0m in \u001b[0;36mcompute_loss_and_gradients\u001b[1;34m(self, X, y)\u001b[0m\n\u001b[0;32m     53\u001b[0m         \u001b[1;32mfor\u001b[0m \u001b[0mlayer\u001b[0m \u001b[1;32min\u001b[0m \u001b[0mself\u001b[0m\u001b[1;33m.\u001b[0m\u001b[0mnet\u001b[0m\u001b[1;33m:\u001b[0m\u001b[1;33m\u001b[0m\u001b[0m\n\u001b[0;32m     54\u001b[0m             \u001b[1;32mif\u001b[0m \u001b[0misinstance\u001b[0m\u001b[1;33m(\u001b[0m\u001b[0mlayer\u001b[0m\u001b[1;33m,\u001b[0m \u001b[0mFullyConnectedLayer\u001b[0m\u001b[1;33m)\u001b[0m\u001b[1;33m:\u001b[0m\u001b[1;33m\u001b[0m\u001b[0m\n\u001b[1;32m---> 55\u001b[1;33m                 \u001b[0ml2_loss\u001b[0m\u001b[1;33m,\u001b[0m \u001b[0ml2_grad\u001b[0m \u001b[1;33m=\u001b[0m \u001b[0ml2_regularization\u001b[0m\u001b[1;33m(\u001b[0m\u001b[0mlayer\u001b[0m\u001b[1;33m.\u001b[0m\u001b[0mW\u001b[0m\u001b[1;33m.\u001b[0m\u001b[0mvalue\u001b[0m\u001b[1;33m,\u001b[0m \u001b[0mself\u001b[0m\u001b[1;33m.\u001b[0m\u001b[0mreg\u001b[0m\u001b[1;33m)\u001b[0m\u001b[1;33m\u001b[0m\u001b[0m\n\u001b[0m\u001b[0;32m     56\u001b[0m                 \u001b[0mloss\u001b[0m \u001b[1;33m+=\u001b[0m \u001b[0ml2_loss\u001b[0m\u001b[1;33m\u001b[0m\u001b[0m\n\u001b[0;32m     57\u001b[0m                 \u001b[0mlayer\u001b[0m\u001b[1;33m.\u001b[0m\u001b[0mW\u001b[0m\u001b[1;33m.\u001b[0m\u001b[0mgrad\u001b[0m \u001b[1;33m+=\u001b[0m \u001b[0ml2_grad\u001b[0m\u001b[1;33m\u001b[0m\u001b[0m\n",
      "\u001b[1;32mC:\\Users\\18888333\\Documents\\HW2\\layers.py\u001b[0m in \u001b[0;36ml2_regularization\u001b[1;34m(W, reg_strength)\u001b[0m\n\u001b[0;32m     63\u001b[0m     \u001b[1;31m# Your final implementation shouldn't have any loops\u001b[0m\u001b[1;33m\u001b[0m\u001b[1;33m\u001b[0m\u001b[0m\n\u001b[0;32m     64\u001b[0m     \u001b[0mloss\u001b[0m \u001b[1;33m=\u001b[0m \u001b[0mreg_strength\u001b[0m \u001b[1;33m*\u001b[0m \u001b[0mnp\u001b[0m\u001b[1;33m.\u001b[0m\u001b[0msum\u001b[0m\u001b[1;33m(\u001b[0m\u001b[0mnp\u001b[0m\u001b[1;33m.\u001b[0m\u001b[0msquare\u001b[0m\u001b[1;33m(\u001b[0m\u001b[0mW\u001b[0m\u001b[1;33m)\u001b[0m\u001b[1;33m)\u001b[0m\u001b[1;33m\u001b[0m\u001b[0m\n\u001b[1;32m---> 65\u001b[1;33m     \u001b[0mgrad\u001b[0m \u001b[1;33m=\u001b[0m \u001b[1;36m2\u001b[0m \u001b[1;33m*\u001b[0m \u001b[0mreg_strength\u001b[0m \u001b[1;33m*\u001b[0m \u001b[0mW\u001b[0m\u001b[1;33m\u001b[0m\u001b[0m\n\u001b[0m\u001b[0;32m     66\u001b[0m \u001b[1;33m\u001b[0m\u001b[0m\n\u001b[0;32m     67\u001b[0m     \u001b[1;32mreturn\u001b[0m \u001b[0mloss\u001b[0m\u001b[1;33m,\u001b[0m \u001b[0mgrad\u001b[0m\u001b[1;33m\u001b[0m\u001b[0m\n",
      "\u001b[1;31mKeyboardInterrupt\u001b[0m: "
     ]
    }
   ],
   "source": [
    "# TODO: Implement MomentumSGD.update function in optim.py\n",
    "\n",
    "model = TwoLayerNet(n_input = train_X.shape[1], n_output = 10, hidden_layer_size = 100, reg = 1e-1)\n",
    "dataset = Dataset(train_X, train_y, val_X, val_y)\n",
    "trainer = Trainer(model, dataset, MomentumSGD(), learning_rate=1e-4, learning_rate_decay=0.99)\n",
    "\n",
    "# You should see even better results than before!\n",
    "loss_history, train_history, val_history = trainer.fit()"
   ]
  },
  {
   "cell_type": "markdown",
   "metadata": {},
   "source": [
    "# Ну что, давайте уже тренировать сеть!"
   ]
  },
  {
   "cell_type": "markdown",
   "metadata": {},
   "source": [
    "## Последний тест - переобучимся (overfit) на маленьком наборе данных\n",
    "\n",
    "Хороший способ проверить, все ли реализовано корректно - переобучить сеть на маленьком наборе данных.  \n",
    "Наша модель обладает достаточной мощностью, чтобы приблизить маленький набор данных идеально, поэтому мы ожидаем, что на нем мы быстро дойдем до 100% точности на тренировочном наборе. \n",
    "\n",
    "Если этого не происходит, то где-то была допущена ошибка!"
   ]
  },
  {
   "cell_type": "code",
   "execution_count": 164,
   "metadata": {},
   "outputs": [
    {
     "name": "stdout",
     "output_type": "stream",
     "text": [
      "Loss: 11.542901, Train accuracy: 0.200000, val accuracy: 0.066667\n",
      "Loss: 11.521914, Train accuracy: 0.200000, val accuracy: 0.066667\n",
      "Loss: 11.579806, Train accuracy: 0.200000, val accuracy: 0.066667\n",
      "Loss: 11.453384, Train accuracy: 0.200000, val accuracy: 0.066667\n",
      "Loss: 11.374456, Train accuracy: 0.200000, val accuracy: 0.066667\n",
      "Loss: 11.431638, Train accuracy: 0.200000, val accuracy: 0.066667\n",
      "Loss: 11.245235, Train accuracy: 0.200000, val accuracy: 0.066667\n",
      "Loss: 11.486756, Train accuracy: 0.200000, val accuracy: 0.066667\n",
      "Loss: 11.153805, Train accuracy: 0.200000, val accuracy: 0.066667\n",
      "Loss: 11.181889, Train accuracy: 0.200000, val accuracy: 0.066667\n",
      "Loss: 11.539431, Train accuracy: 0.200000, val accuracy: 0.066667\n",
      "Loss: 11.314236, Train accuracy: 0.200000, val accuracy: 0.066667\n",
      "Loss: 11.079927, Train accuracy: 0.200000, val accuracy: 0.066667\n",
      "Loss: 11.429651, Train accuracy: 0.200000, val accuracy: 0.066667\n",
      "Loss: 11.013881, Train accuracy: 0.200000, val accuracy: 0.066667\n",
      "Loss: 11.268864, Train accuracy: 0.200000, val accuracy: 0.066667\n",
      "Loss: 11.537703, Train accuracy: 0.200000, val accuracy: 0.066667\n",
      "Loss: 11.399897, Train accuracy: 0.200000, val accuracy: 0.066667\n",
      "Loss: 11.060314, Train accuracy: 0.200000, val accuracy: 0.066667\n",
      "Loss: 11.716208, Train accuracy: 0.200000, val accuracy: 0.133333\n",
      "Loss: 11.019763, Train accuracy: 0.200000, val accuracy: 0.066667\n",
      "Loss: 11.354748, Train accuracy: 0.200000, val accuracy: 0.066667\n",
      "Loss: 11.174352, Train accuracy: 0.200000, val accuracy: 0.133333\n",
      "Loss: 11.364358, Train accuracy: 0.200000, val accuracy: 0.133333\n",
      "Loss: 10.943785, Train accuracy: 0.200000, val accuracy: 0.133333\n",
      "Loss: 10.710020, Train accuracy: 0.200000, val accuracy: 0.133333\n",
      "Loss: 11.130932, Train accuracy: 0.200000, val accuracy: 0.066667\n",
      "Loss: 11.347389, Train accuracy: 0.200000, val accuracy: 0.133333\n",
      "Loss: 11.343111, Train accuracy: 0.200000, val accuracy: 0.066667\n",
      "Loss: 10.156049, Train accuracy: 0.200000, val accuracy: 0.066667\n",
      "Loss: 11.565511, Train accuracy: 0.200000, val accuracy: 0.133333\n",
      "Loss: 11.062591, Train accuracy: 0.200000, val accuracy: 0.133333\n",
      "Loss: 11.065282, Train accuracy: 0.200000, val accuracy: 0.133333\n",
      "Loss: 11.045532, Train accuracy: 0.200000, val accuracy: 0.133333\n",
      "Loss: 11.036540, Train accuracy: 0.200000, val accuracy: 0.133333\n",
      "Loss: 10.779756, Train accuracy: 0.200000, val accuracy: 0.133333\n",
      "Loss: 10.486296, Train accuracy: 0.200000, val accuracy: 0.066667\n",
      "Loss: 11.033785, Train accuracy: 0.200000, val accuracy: 0.066667\n",
      "Loss: 11.291437, Train accuracy: 0.200000, val accuracy: 0.066667\n",
      "Loss: 11.289042, Train accuracy: 0.200000, val accuracy: 0.133333\n",
      "Loss: 10.722966, Train accuracy: 0.200000, val accuracy: 0.066667\n",
      "Loss: 10.691439, Train accuracy: 0.200000, val accuracy: 0.066667\n",
      "Loss: 11.907087, Train accuracy: 0.200000, val accuracy: 0.066667\n",
      "Loss: 10.688185, Train accuracy: 0.200000, val accuracy: 0.066667\n",
      "Loss: 10.969900, Train accuracy: 0.200000, val accuracy: 0.066667\n",
      "Loss: 11.278951, Train accuracy: 0.200000, val accuracy: 0.133333\n",
      "Loss: 10.661452, Train accuracy: 0.200000, val accuracy: 0.133333\n",
      "Loss: 11.624854, Train accuracy: 0.200000, val accuracy: 0.133333\n",
      "Loss: 10.968698, Train accuracy: 0.200000, val accuracy: 0.133333\n",
      "Loss: 10.944005, Train accuracy: 0.200000, val accuracy: 0.133333\n",
      "Loss: 11.293495, Train accuracy: 0.200000, val accuracy: 0.133333\n",
      "Loss: 10.238639, Train accuracy: 0.200000, val accuracy: 0.133333\n",
      "Loss: 10.915888, Train accuracy: 0.200000, val accuracy: 0.133333\n",
      "Loss: 10.226885, Train accuracy: 0.200000, val accuracy: 0.133333\n",
      "Loss: 10.922142, Train accuracy: 0.200000, val accuracy: 0.133333\n",
      "Loss: 10.243210, Train accuracy: 0.200000, val accuracy: 0.133333\n",
      "Loss: 10.190626, Train accuracy: 0.200000, val accuracy: 0.133333\n",
      "Loss: 10.515385, Train accuracy: 0.200000, val accuracy: 0.133333\n",
      "Loss: 10.926286, Train accuracy: 0.200000, val accuracy: 0.133333\n",
      "Loss: 10.902608, Train accuracy: 0.200000, val accuracy: 0.133333\n",
      "Loss: 10.900467, Train accuracy: 0.200000, val accuracy: 0.133333\n",
      "Loss: 11.328122, Train accuracy: 0.200000, val accuracy: 0.133333\n",
      "Loss: 10.477151, Train accuracy: 0.200000, val accuracy: 0.133333\n",
      "Loss: 11.682747, Train accuracy: 0.200000, val accuracy: 0.133333\n",
      "Loss: 11.260958, Train accuracy: 0.200000, val accuracy: 0.133333\n",
      "Loss: 11.688523, Train accuracy: 0.200000, val accuracy: 0.133333\n",
      "Loss: 11.258855, Train accuracy: 0.200000, val accuracy: 0.133333\n",
      "Loss: 12.073345, Train accuracy: 0.200000, val accuracy: 0.133333\n",
      "Loss: 10.474571, Train accuracy: 0.200000, val accuracy: 0.133333\n",
      "Loss: 11.257147, Train accuracy: 0.200000, val accuracy: 0.133333\n",
      "Loss: 10.892493, Train accuracy: 0.200000, val accuracy: 0.133333\n",
      "Loss: 11.274046, Train accuracy: 0.200000, val accuracy: 0.133333\n",
      "Loss: 10.821269, Train accuracy: 0.200000, val accuracy: 0.133333\n",
      "Loss: 11.254942, Train accuracy: 0.200000, val accuracy: 0.133333\n",
      "Loss: 10.862149, Train accuracy: 0.200000, val accuracy: 0.133333\n",
      "Loss: 9.182731, Train accuracy: 0.200000, val accuracy: 0.133333\n",
      "Loss: 10.408126, Train accuracy: 0.200000, val accuracy: 0.133333\n",
      "Loss: 10.007424, Train accuracy: 0.200000, val accuracy: 0.133333\n",
      "Loss: 11.275376, Train accuracy: 0.200000, val accuracy: 0.133333\n",
      "Loss: 9.994238, Train accuracy: 0.200000, val accuracy: 0.133333\n",
      "Loss: 10.851679, Train accuracy: 0.200000, val accuracy: 0.133333\n",
      "Loss: 11.674684, Train accuracy: 0.200000, val accuracy: 0.133333\n",
      "Loss: 10.782611, Train accuracy: 0.200000, val accuracy: 0.133333\n",
      "Loss: 10.866222, Train accuracy: 0.200000, val accuracy: 0.133333\n",
      "Loss: 11.250636, Train accuracy: 0.200000, val accuracy: 0.066667\n",
      "Loss: 10.344780, Train accuracy: 0.200000, val accuracy: 0.066667\n",
      "Loss: 10.842491, Train accuracy: 0.200000, val accuracy: 0.066667\n",
      "Loss: 9.480843, Train accuracy: 0.200000, val accuracy: 0.133333\n",
      "Loss: 10.839861, Train accuracy: 0.200000, val accuracy: 0.133333\n",
      "Loss: 9.424141, Train accuracy: 0.200000, val accuracy: 0.133333\n",
      "Loss: 11.763221, Train accuracy: 0.200000, val accuracy: 0.133333\n",
      "Loss: 8.640872, Train accuracy: 0.200000, val accuracy: 0.133333\n",
      "Loss: 10.439965, Train accuracy: 0.200000, val accuracy: 0.133333\n",
      "Loss: 10.437441, Train accuracy: 0.200000, val accuracy: 0.133333\n",
      "Loss: 10.327287, Train accuracy: 0.200000, val accuracy: 0.133333\n",
      "Loss: 10.850332, Train accuracy: 0.200000, val accuracy: 0.133333\n",
      "Loss: 11.247296, Train accuracy: 0.200000, val accuracy: 0.133333\n",
      "Loss: 11.361012, Train accuracy: 0.200000, val accuracy: 0.133333\n",
      "Loss: 9.775836, Train accuracy: 0.200000, val accuracy: 0.133333\n",
      "Loss: 10.825712, Train accuracy: 0.200000, val accuracy: 0.133333\n",
      "Loss: 10.283793, Train accuracy: 0.200000, val accuracy: 0.133333\n",
      "Loss: 11.244810, Train accuracy: 0.200000, val accuracy: 0.133333\n",
      "Loss: 9.874861, Train accuracy: 0.200000, val accuracy: 0.133333\n",
      "Loss: 9.870480, Train accuracy: 0.200000, val accuracy: 0.133333\n",
      "Loss: 10.417863, Train accuracy: 0.200000, val accuracy: 0.133333\n",
      "Loss: 11.243782, Train accuracy: 0.200000, val accuracy: 0.133333\n",
      "Loss: 9.323201, Train accuracy: 0.200000, val accuracy: 0.133333\n",
      "Loss: 10.706928, Train accuracy: 0.200000, val accuracy: 0.133333\n",
      "Loss: 11.804015, Train accuracy: 0.200000, val accuracy: 0.133333\n",
      "Loss: 10.836852, Train accuracy: 0.200000, val accuracy: 0.133333\n",
      "Loss: 9.844893, Train accuracy: 0.200000, val accuracy: 0.133333\n",
      "Loss: 10.289242, Train accuracy: 0.200000, val accuracy: 0.133333\n",
      "Loss: 10.407414, Train accuracy: 0.200000, val accuracy: 0.133333\n",
      "Loss: 11.241164, Train accuracy: 0.200000, val accuracy: 0.133333\n",
      "Loss: 10.813054, Train accuracy: 0.200000, val accuracy: 0.133333\n",
      "Loss: 10.811881, Train accuracy: 0.200000, val accuracy: 0.133333\n",
      "Loss: 8.860599, Train accuracy: 0.200000, val accuracy: 0.133333\n",
      "Loss: 9.822400, Train accuracy: 0.200000, val accuracy: 0.133333\n",
      "Loss: 10.249733, Train accuracy: 0.200000, val accuracy: 0.133333\n",
      "Loss: 12.272237, Train accuracy: 0.200000, val accuracy: 0.133333\n",
      "Loss: 10.674966, Train accuracy: 0.200000, val accuracy: 0.133333\n",
      "Loss: 11.238709, Train accuracy: 0.200000, val accuracy: 0.133333\n",
      "Loss: 10.669736, Train accuracy: 0.200000, val accuracy: 0.133333\n",
      "Loss: 11.236950, Train accuracy: 0.200000, val accuracy: 0.133333\n",
      "Loss: 10.806680, Train accuracy: 0.200000, val accuracy: 0.133333\n",
      "Loss: 11.237327, Train accuracy: 0.200000, val accuracy: 0.133333\n",
      "Loss: 12.858942, Train accuracy: 0.200000, val accuracy: 0.133333\n"
     ]
    },
    {
     "name": "stdout",
     "output_type": "stream",
     "text": [
      "Loss: 10.804170, Train accuracy: 0.200000, val accuracy: 0.133333\n",
      "Loss: 11.835160, Train accuracy: 0.200000, val accuracy: 0.133333\n",
      "Loss: 10.803769, Train accuracy: 0.200000, val accuracy: 0.133333\n",
      "Loss: 10.391211, Train accuracy: 0.200000, val accuracy: 0.133333\n",
      "Loss: 10.802753, Train accuracy: 0.200000, val accuracy: 0.133333\n",
      "Loss: 10.801809, Train accuracy: 0.200000, val accuracy: 0.133333\n",
      "Loss: 11.840406, Train accuracy: 0.200000, val accuracy: 0.133333\n",
      "Loss: 10.800281, Train accuracy: 0.200000, val accuracy: 0.133333\n",
      "Loss: 11.232855, Train accuracy: 0.200000, val accuracy: 0.066667\n",
      "Loss: 10.799715, Train accuracy: 0.200000, val accuracy: 0.066667\n",
      "Loss: 10.799448, Train accuracy: 0.200000, val accuracy: 0.066667\n",
      "Loss: 9.771627, Train accuracy: 0.200000, val accuracy: 0.133333\n",
      "Loss: 11.231352, Train accuracy: 0.200000, val accuracy: 0.133333\n",
      "Loss: 9.169582, Train accuracy: 0.200000, val accuracy: 0.133333\n",
      "Loss: 10.797432, Train accuracy: 0.200000, val accuracy: 0.133333\n",
      "Loss: 11.229881, Train accuracy: 0.200000, val accuracy: 0.133333\n",
      "Loss: 10.796666, Train accuracy: 0.200000, val accuracy: 0.133333\n",
      "Loss: 11.852554, Train accuracy: 0.200000, val accuracy: 0.133333\n",
      "Loss: 10.382509, Train accuracy: 0.200000, val accuracy: 0.133333\n",
      "Loss: 10.169222, Train accuracy: 0.200000, val accuracy: 0.133333\n",
      "Loss: 10.815675, Train accuracy: 0.200000, val accuracy: 0.133333\n",
      "Loss: 10.794030, Train accuracy: 0.200000, val accuracy: 0.133333\n",
      "Loss: 11.680288, Train accuracy: 0.200000, val accuracy: 0.133333\n"
     ]
    }
   ],
   "source": [
    "data_size = 15\n",
    "model = TwoLayerNet(n_input = train_X.shape[1], n_output = 10, hidden_layer_size = 100, reg = 1e-1)\n",
    "dataset = Dataset(train_X[:data_size], train_y[:data_size], val_X[:data_size], val_y[:data_size])\n",
    "trainer = Trainer(model, dataset, SGD(), learning_rate=1e-2, num_epochs=150, batch_size=5)\n",
    "\n",
    "# You should expect this to reach 1.0 training accuracy \n",
    "loss_history, train_history, val_history = trainer.fit()"
   ]
  },
  {
   "cell_type": "markdown",
   "metadata": {},
   "source": [
    "Теперь найдем гипепараметры, для которых этот процесс сходится быстрее.\n",
    "Если все реализовано корректно, то существуют параметры, при которых процесс сходится в **20** эпох или еще быстрее.\n",
    "Найдите их!"
   ]
  },
  {
   "cell_type": "code",
   "execution_count": 50,
   "metadata": {},
   "outputs": [
    {
     "name": "stdout",
     "output_type": "stream",
     "text": [
      "Loss: 11.581979, Train accuracy: 0.200000, val accuracy: 0.066667\n",
      "Loss: 11.384001, Train accuracy: 0.200000, val accuracy: 0.066667\n",
      "Loss: 11.223108, Train accuracy: 0.333333, val accuracy: 0.066667\n",
      "Loss: 10.611491, Train accuracy: 0.200000, val accuracy: 0.000000\n",
      "Loss: 10.372608, Train accuracy: 0.266667, val accuracy: 0.000000\n",
      "Loss: 9.872818, Train accuracy: 0.400000, val accuracy: 0.000000\n",
      "Loss: 8.789478, Train accuracy: 0.400000, val accuracy: 0.000000\n",
      "Loss: 10.325756, Train accuracy: 0.400000, val accuracy: 0.000000\n",
      "Loss: 11.127362, Train accuracy: 0.400000, val accuracy: 0.066667\n",
      "Loss: 12.108627, Train accuracy: 0.400000, val accuracy: 0.133333\n",
      "Loss: 5.647170, Train accuracy: 0.466667, val accuracy: 0.000000\n",
      "Loss: 9.141338, Train accuracy: 0.533333, val accuracy: 0.000000\n",
      "Loss: 6.751879, Train accuracy: 0.533333, val accuracy: 0.000000\n",
      "Loss: 7.682985, Train accuracy: 0.600000, val accuracy: 0.000000\n",
      "Loss: 4.239942, Train accuracy: 0.800000, val accuracy: 0.000000\n",
      "Loss: 4.698452, Train accuracy: 0.800000, val accuracy: 0.066667\n",
      "Loss: 1.564375, Train accuracy: 0.933333, val accuracy: 0.000000\n",
      "Loss: 1.233622, Train accuracy: 1.000000, val accuracy: 0.000000\n",
      "Loss: 0.916069, Train accuracy: 1.000000, val accuracy: 0.000000\n",
      "Loss: 0.919832, Train accuracy: 1.000000, val accuracy: 0.000000\n"
     ]
    }
   ],
   "source": [
    "# Now, tweak some hyper parameters and make it train to 1.0 accuracy in 20 epochs or less\n",
    "\n",
    "model = TwoLayerNet(n_input = train_X.shape[1], n_output = 10, hidden_layer_size = 100, reg = 1e-2)\n",
    "dataset = Dataset(train_X[:data_size], train_y[:data_size], val_X[:data_size], val_y[:data_size])\n",
    "# TODO: Change any hyperparamers or optimizators to reach training accuracy in 20 epochs\n",
    "trainer = Trainer(model, dataset, MomentumSGD(), learning_rate=1e-2, num_epochs=20, batch_size=5)\n",
    "\n",
    "loss_history, train_history, val_history = trainer.fit()"
   ]
  },
  {
   "cell_type": "markdown",
   "metadata": {},
   "source": [
    "# Итак, основное мероприятие!\n",
    "\n",
    "Натренируйте лучшую нейросеть! Можно добавлять и изменять параметры, менять количество нейронов в слоях сети и как угодно экспериментировать. \n",
    "\n",
    "Добейтесь точности лучше **60%** на validation set."
   ]
  },
  {
   "cell_type": "code",
   "execution_count": 168,
   "metadata": {
    "scrolled": true
   },
   "outputs": [
    {
     "name": "stdout",
     "output_type": "stream",
     "text": [
      "Loss: 11.514770, Train accuracy: 0.066667, val accuracy: 0.066667\n",
      "Loss: 11.512807, Train accuracy: 0.200000, val accuracy: 0.133333\n",
      "Loss: 11.509375, Train accuracy: 0.200000, val accuracy: 0.133333\n",
      "Loss: 11.508022, Train accuracy: 0.200000, val accuracy: 0.133333\n",
      "Loss: 11.501981, Train accuracy: 0.200000, val accuracy: 0.133333\n",
      "Loss: 11.502096, Train accuracy: 0.200000, val accuracy: 0.133333\n",
      "Loss: 11.512082, Train accuracy: 0.200000, val accuracy: 0.133333\n",
      "Loss: 11.506807, Train accuracy: 0.200000, val accuracy: 0.133333\n",
      "Loss: 11.513214, Train accuracy: 0.200000, val accuracy: 0.133333\n",
      "Loss: 11.481951, Train accuracy: 0.200000, val accuracy: 0.133333\n",
      "Loss: 11.492794, Train accuracy: 0.200000, val accuracy: 0.133333\n",
      "Loss: 11.473896, Train accuracy: 0.200000, val accuracy: 0.133333\n",
      "Loss: 11.501465, Train accuracy: 0.200000, val accuracy: 0.133333\n",
      "Loss: 11.456112, Train accuracy: 0.200000, val accuracy: 0.133333\n",
      "Loss: 11.471148, Train accuracy: 0.200000, val accuracy: 0.133333\n",
      "Loss: 11.495410, Train accuracy: 0.200000, val accuracy: 0.133333\n",
      "Loss: 11.507556, Train accuracy: 0.200000, val accuracy: 0.133333\n",
      "Loss: 11.462769, Train accuracy: 0.200000, val accuracy: 0.133333\n",
      "Loss: 11.445406, Train accuracy: 0.200000, val accuracy: 0.133333\n",
      "Loss: 11.439290, Train accuracy: 0.200000, val accuracy: 0.133333\n",
      "Loss: 11.488659, Train accuracy: 0.200000, val accuracy: 0.133333\n",
      "Loss: 11.450034, Train accuracy: 0.200000, val accuracy: 0.133333\n",
      "Loss: 11.505492, Train accuracy: 0.200000, val accuracy: 0.133333\n",
      "Loss: 11.544921, Train accuracy: 0.200000, val accuracy: 0.133333\n",
      "Loss: 11.480313, Train accuracy: 0.200000, val accuracy: 0.133333\n",
      "Loss: 11.389758, Train accuracy: 0.200000, val accuracy: 0.133333\n",
      "Loss: 11.409349, Train accuracy: 0.200000, val accuracy: 0.133333\n",
      "Loss: 11.453277, Train accuracy: 0.200000, val accuracy: 0.133333\n",
      "Loss: 11.452104, Train accuracy: 0.200000, val accuracy: 0.133333\n",
      "Loss: 11.475322, Train accuracy: 0.200000, val accuracy: 0.133333\n",
      "Loss: 11.420908, Train accuracy: 0.200000, val accuracy: 0.133333\n",
      "Loss: 11.444228, Train accuracy: 0.200000, val accuracy: 0.133333\n",
      "Loss: 11.441205, Train accuracy: 0.200000, val accuracy: 0.133333\n",
      "Loss: 11.381131, Train accuracy: 0.200000, val accuracy: 0.133333\n",
      "Loss: 11.468920, Train accuracy: 0.200000, val accuracy: 0.133333\n",
      "Loss: 11.371540, Train accuracy: 0.200000, val accuracy: 0.133333\n",
      "Loss: 11.332725, Train accuracy: 0.200000, val accuracy: 0.133333\n",
      "Loss: 11.498850, Train accuracy: 0.200000, val accuracy: 0.133333\n",
      "Loss: 11.393311, Train accuracy: 0.200000, val accuracy: 0.133333\n",
      "Loss: 11.320433, Train accuracy: 0.200000, val accuracy: 0.133333\n",
      "Loss: 11.389438, Train accuracy: 0.200000, val accuracy: 0.133333\n",
      "Loss: 11.423259, Train accuracy: 0.200000, val accuracy: 0.133333\n",
      "Loss: 11.496840, Train accuracy: 0.200000, val accuracy: 0.133333\n",
      "Loss: 11.380171, Train accuracy: 0.200000, val accuracy: 0.133333\n",
      "Loss: 11.373791, Train accuracy: 0.200000, val accuracy: 0.133333\n",
      "Loss: 11.331669, Train accuracy: 0.200000, val accuracy: 0.133333\n",
      "Loss: 11.497714, Train accuracy: 0.200000, val accuracy: 0.133333\n",
      "Loss: 11.452757, Train accuracy: 0.200000, val accuracy: 0.133333\n",
      "Loss: 11.449570, Train accuracy: 0.200000, val accuracy: 0.133333\n",
      "Loss: 11.358718, Train accuracy: 0.200000, val accuracy: 0.133333\n",
      "Loss: 11.448470, Train accuracy: 0.200000, val accuracy: 0.133333\n",
      "Loss: 11.399561, Train accuracy: 0.200000, val accuracy: 0.133333\n",
      "Loss: 11.351866, Train accuracy: 0.200000, val accuracy: 0.133333\n",
      "Loss: 11.300280, Train accuracy: 0.200000, val accuracy: 0.133333\n",
      "Loss: 11.343416, Train accuracy: 0.200000, val accuracy: 0.133333\n",
      "Loss: 11.392658, Train accuracy: 0.200000, val accuracy: 0.133333\n",
      "Loss: 11.441519, Train accuracy: 0.200000, val accuracy: 0.133333\n",
      "Loss: 11.388936, Train accuracy: 0.200000, val accuracy: 0.133333\n",
      "Loss: 11.385811, Train accuracy: 0.200000, val accuracy: 0.133333\n",
      "Loss: 11.383112, Train accuracy: 0.200000, val accuracy: 0.133333\n",
      "Loss: 11.380979, Train accuracy: 0.200000, val accuracy: 0.133333\n",
      "Loss: 11.322233, Train accuracy: 0.200000, val accuracy: 0.133333\n",
      "Loss: 11.493431, Train accuracy: 0.200000, val accuracy: 0.133333\n",
      "Loss: 11.316730, Train accuracy: 0.200000, val accuracy: 0.133333\n",
      "Loss: 11.490865, Train accuracy: 0.200000, val accuracy: 0.133333\n",
      "Loss: 11.370489, Train accuracy: 0.200000, val accuracy: 0.133333\n",
      "Loss: 11.371843, Train accuracy: 0.200000, val accuracy: 0.133333\n",
      "Loss: 11.306229, Train accuracy: 0.200000, val accuracy: 0.133333\n",
      "Loss: 11.365385, Train accuracy: 0.200000, val accuracy: 0.133333\n",
      "Loss: 11.490334, Train accuracy: 0.200000, val accuracy: 0.133333\n",
      "Loss: 11.424735, Train accuracy: 0.200000, val accuracy: 0.133333\n",
      "Loss: 11.290071, Train accuracy: 0.200000, val accuracy: 0.133333\n",
      "Loss: 11.289780, Train accuracy: 0.200000, val accuracy: 0.133333\n",
      "Loss: 11.286329, Train accuracy: 0.200000, val accuracy: 0.133333\n",
      "Loss: 11.421025, Train accuracy: 0.200000, val accuracy: 0.133333\n",
      "Loss: 11.074698, Train accuracy: 0.200000, val accuracy: 0.133333\n",
      "Loss: 11.422062, Train accuracy: 0.200000, val accuracy: 0.133333\n",
      "Loss: 11.204949, Train accuracy: 0.200000, val accuracy: 0.133333\n",
      "Loss: 11.561492, Train accuracy: 0.200000, val accuracy: 0.133333\n",
      "Loss: 11.417445, Train accuracy: 0.200000, val accuracy: 0.133333\n",
      "Loss: 11.340407, Train accuracy: 0.200000, val accuracy: 0.133333\n",
      "Loss: 11.262137, Train accuracy: 0.200000, val accuracy: 0.133333\n",
      "Loss: 11.264446, Train accuracy: 0.200000, val accuracy: 0.133333\n",
      "Loss: 11.336606, Train accuracy: 0.200000, val accuracy: 0.133333\n",
      "Loss: 11.331727, Train accuracy: 0.200000, val accuracy: 0.133333\n",
      "Loss: 11.256066, Train accuracy: 0.200000, val accuracy: 0.133333\n",
      "Loss: 11.252457, Train accuracy: 0.200000, val accuracy: 0.133333\n",
      "Loss: 11.567596, Train accuracy: 0.200000, val accuracy: 0.133333\n",
      "Loss: 11.243049, Train accuracy: 0.200000, val accuracy: 0.133333\n",
      "Loss: 11.325154, Train accuracy: 0.200000, val accuracy: 0.133333\n",
      "Loss: 11.408521, Train accuracy: 0.200000, val accuracy: 0.133333\n",
      "Loss: 11.488320, Train accuracy: 0.200000, val accuracy: 0.133333\n",
      "Loss: 11.233043, Train accuracy: 0.200000, val accuracy: 0.133333\n",
      "Loss: 11.147137, Train accuracy: 0.200000, val accuracy: 0.133333\n",
      "Loss: 11.230737, Train accuracy: 0.200000, val accuracy: 0.133333\n",
      "Loss: 11.225558, Train accuracy: 0.200000, val accuracy: 0.133333\n",
      "Loss: 11.046778, Train accuracy: 0.200000, val accuracy: 0.133333\n",
      "Loss: 11.221768, Train accuracy: 0.200000, val accuracy: 0.133333\n",
      "Loss: 11.307687, Train accuracy: 0.200000, val accuracy: 0.133333\n",
      "Loss: 11.303185, Train accuracy: 0.200000, val accuracy: 0.133333\n",
      "Loss: 11.031692, Train accuracy: 0.200000, val accuracy: 0.133333\n",
      "Loss: 11.578222, Train accuracy: 0.200000, val accuracy: 0.133333\n",
      "Loss: 11.394258, Train accuracy: 0.200000, val accuracy: 0.133333\n",
      "Loss: 11.111198, Train accuracy: 0.200000, val accuracy: 0.133333\n",
      "Loss: 11.012166, Train accuracy: 0.200000, val accuracy: 0.133333\n",
      "Loss: 11.390058, Train accuracy: 0.200000, val accuracy: 0.133333\n",
      "Loss: 11.581271, Train accuracy: 0.200000, val accuracy: 0.133333\n",
      "Loss: 11.680210, Train accuracy: 0.200000, val accuracy: 0.133333\n",
      "Loss: 11.091365, Train accuracy: 0.200000, val accuracy: 0.133333\n",
      "Loss: 11.287203, Train accuracy: 0.200000, val accuracy: 0.133333\n",
      "Loss: 11.485611, Train accuracy: 0.200000, val accuracy: 0.133333\n",
      "Loss: 10.981688, Train accuracy: 0.200000, val accuracy: 0.133333\n",
      "Loss: 11.281669, Train accuracy: 0.200000, val accuracy: 0.133333\n",
      "Loss: 11.177203, Train accuracy: 0.200000, val accuracy: 0.133333\n",
      "Loss: 11.278755, Train accuracy: 0.200000, val accuracy: 0.133333\n",
      "Loss: 11.275898, Train accuracy: 0.200000, val accuracy: 0.133333\n",
      "Loss: 11.378425, Train accuracy: 0.200000, val accuracy: 0.133333\n",
      "Loss: 11.274334, Train accuracy: 0.200000, val accuracy: 0.133333\n",
      "Loss: 11.058106, Train accuracy: 0.200000, val accuracy: 0.133333\n",
      "Loss: 11.485751, Train accuracy: 0.200000, val accuracy: 0.133333\n",
      "Loss: 11.375049, Train accuracy: 0.200000, val accuracy: 0.133333\n"
     ]
    },
    {
     "ename": "KeyboardInterrupt",
     "evalue": "",
     "output_type": "error",
     "traceback": [
      "\u001b[1;31m---------------------------------------------------------------------------\u001b[0m",
      "\u001b[1;31mKeyboardInterrupt\u001b[0m                         Traceback (most recent call last)",
      "\u001b[1;32m<ipython-input-168-896d536f2e77>\u001b[0m in \u001b[0;36m<module>\u001b[1;34m()\u001b[0m\n\u001b[0;32m     18\u001b[0m \u001b[0mdataset\u001b[0m \u001b[1;33m=\u001b[0m \u001b[0mDataset\u001b[0m\u001b[1;33m(\u001b[0m\u001b[0mtrain_X\u001b[0m\u001b[1;33m[\u001b[0m\u001b[1;33m:\u001b[0m\u001b[0mdata_size\u001b[0m\u001b[1;33m]\u001b[0m\u001b[1;33m,\u001b[0m \u001b[0mtrain_y\u001b[0m\u001b[1;33m[\u001b[0m\u001b[1;33m:\u001b[0m\u001b[0mdata_size\u001b[0m\u001b[1;33m]\u001b[0m\u001b[1;33m,\u001b[0m \u001b[0mval_X\u001b[0m\u001b[1;33m[\u001b[0m\u001b[1;33m:\u001b[0m\u001b[0mdata_size\u001b[0m\u001b[1;33m]\u001b[0m\u001b[1;33m,\u001b[0m \u001b[0mval_y\u001b[0m\u001b[1;33m[\u001b[0m\u001b[1;33m:\u001b[0m\u001b[0mdata_size\u001b[0m\u001b[1;33m]\u001b[0m\u001b[1;33m)\u001b[0m\u001b[1;33m\u001b[0m\u001b[0m\n\u001b[0;32m     19\u001b[0m \u001b[0mtrainer\u001b[0m \u001b[1;33m=\u001b[0m \u001b[0mTrainer\u001b[0m\u001b[1;33m(\u001b[0m\u001b[0mmodel\u001b[0m\u001b[1;33m,\u001b[0m \u001b[0mdataset\u001b[0m\u001b[1;33m,\u001b[0m \u001b[0mMomentumSGD\u001b[0m\u001b[1;33m(\u001b[0m\u001b[1;33m)\u001b[0m\u001b[1;33m,\u001b[0m \u001b[0mlearning_rate\u001b[0m\u001b[1;33m=\u001b[0m\u001b[0mlearning_rates\u001b[0m\u001b[1;33m,\u001b[0m \u001b[0mnum_epochs\u001b[0m\u001b[1;33m=\u001b[0m\u001b[0mnum_epochs\u001b[0m\u001b[1;33m,\u001b[0m \u001b[0mbatch_size\u001b[0m\u001b[1;33m=\u001b[0m\u001b[0mbatch_size\u001b[0m\u001b[1;33m)\u001b[0m\u001b[1;33m\u001b[0m\u001b[0m\n\u001b[1;32m---> 20\u001b[1;33m \u001b[0mloss_history\u001b[0m\u001b[1;33m,\u001b[0m \u001b[0mtrain_history\u001b[0m\u001b[1;33m,\u001b[0m \u001b[0mval_history\u001b[0m \u001b[1;33m=\u001b[0m \u001b[0mtrainer\u001b[0m\u001b[1;33m.\u001b[0m\u001b[0mfit\u001b[0m\u001b[1;33m(\u001b[0m\u001b[1;33m)\u001b[0m\u001b[1;33m\u001b[0m\u001b[0m\n\u001b[0m\u001b[0;32m     21\u001b[0m \u001b[1;33m\u001b[0m\u001b[0m\n\u001b[0;32m     22\u001b[0m \u001b[1;31m# TODO find the best hyperparameters to train the network\u001b[0m\u001b[1;33m\u001b[0m\u001b[1;33m\u001b[0m\u001b[0m\n",
      "\u001b[1;32mC:\\Users\\18888333\\Documents\\HW2\\trainer.py\u001b[0m in \u001b[0;36mfit\u001b[1;34m(self)\u001b[0m\n\u001b[0;32m    102\u001b[0m                 \u001b[0mX_batch\u001b[0m \u001b[1;33m=\u001b[0m \u001b[0mself\u001b[0m\u001b[1;33m.\u001b[0m\u001b[0mdataset\u001b[0m\u001b[1;33m.\u001b[0m\u001b[0mtrain_X\u001b[0m\u001b[1;33m[\u001b[0m\u001b[0mbatch_indices\u001b[0m\u001b[1;33m]\u001b[0m\u001b[1;33m\u001b[0m\u001b[0m\n\u001b[0;32m    103\u001b[0m                 \u001b[0my_batch\u001b[0m \u001b[1;33m=\u001b[0m \u001b[0mself\u001b[0m\u001b[1;33m.\u001b[0m\u001b[0mdataset\u001b[0m\u001b[1;33m.\u001b[0m\u001b[0mtrain_y\u001b[0m\u001b[1;33m[\u001b[0m\u001b[0mbatch_indices\u001b[0m\u001b[1;33m]\u001b[0m\u001b[1;33m\u001b[0m\u001b[0m\n\u001b[1;32m--> 104\u001b[1;33m                 \u001b[0mloss\u001b[0m \u001b[1;33m=\u001b[0m \u001b[0mself\u001b[0m\u001b[1;33m.\u001b[0m\u001b[0mmodel\u001b[0m\u001b[1;33m.\u001b[0m\u001b[0mcompute_loss_and_gradients\u001b[0m\u001b[1;33m(\u001b[0m\u001b[0mX_batch\u001b[0m\u001b[1;33m,\u001b[0m \u001b[0my_batch\u001b[0m\u001b[1;33m)\u001b[0m\u001b[1;33m\u001b[0m\u001b[0m\n\u001b[0m\u001b[0;32m    105\u001b[0m \u001b[1;33m\u001b[0m\u001b[0m\n\u001b[0;32m    106\u001b[0m                 \u001b[1;32mfor\u001b[0m \u001b[0mparam_name\u001b[0m\u001b[1;33m,\u001b[0m \u001b[0mparam\u001b[0m \u001b[1;32min\u001b[0m \u001b[0mself\u001b[0m\u001b[1;33m.\u001b[0m\u001b[0mmodel\u001b[0m\u001b[1;33m.\u001b[0m\u001b[0mparams\u001b[0m\u001b[1;33m(\u001b[0m\u001b[1;33m)\u001b[0m\u001b[1;33m.\u001b[0m\u001b[0mitems\u001b[0m\u001b[1;33m(\u001b[0m\u001b[1;33m)\u001b[0m\u001b[1;33m:\u001b[0m\u001b[1;33m\u001b[0m\u001b[0m\n",
      "\u001b[1;32mC:\\Users\\18888333\\Documents\\HW2\\model.py\u001b[0m in \u001b[0;36mcompute_loss_and_gradients\u001b[1;34m(self, X, y)\u001b[0m\n\u001b[0;32m     49\u001b[0m                 \u001b[0mlayer\u001b[0m\u001b[1;33m.\u001b[0m\u001b[0mW\u001b[0m\u001b[1;33m.\u001b[0m\u001b[0mgrad\u001b[0m \u001b[1;33m=\u001b[0m \u001b[1;36m0\u001b[0m\u001b[1;33m\u001b[0m\u001b[0m\n\u001b[0;32m     50\u001b[0m                 \u001b[0mlayer\u001b[0m\u001b[1;33m.\u001b[0m\u001b[0mB\u001b[0m\u001b[1;33m.\u001b[0m\u001b[0mgrad\u001b[0m \u001b[1;33m=\u001b[0m \u001b[1;36m0\u001b[0m\u001b[1;33m\u001b[0m\u001b[0m\n\u001b[1;32m---> 51\u001b[1;33m             \u001b[0m_X\u001b[0m \u001b[1;33m=\u001b[0m \u001b[0mlayer\u001b[0m\u001b[1;33m.\u001b[0m\u001b[0mforward\u001b[0m\u001b[1;33m(\u001b[0m\u001b[0m_X\u001b[0m\u001b[1;33m)\u001b[0m\u001b[1;33m\u001b[0m\u001b[0m\n\u001b[0m\u001b[0;32m     52\u001b[0m \u001b[1;33m\u001b[0m\u001b[0m\n\u001b[0;32m     53\u001b[0m         \u001b[0mloss\u001b[0m\u001b[1;33m,\u001b[0m \u001b[0mgrads\u001b[0m \u001b[1;33m=\u001b[0m \u001b[0msoftmax_with_cross_entropy\u001b[0m\u001b[1;33m(\u001b[0m\u001b[0m_X\u001b[0m\u001b[1;33m,\u001b[0m \u001b[0my\u001b[0m\u001b[1;33m)\u001b[0m\u001b[1;33m\u001b[0m\u001b[0m\n",
      "\u001b[1;32mC:\\Users\\18888333\\Documents\\HW2\\layers.py\u001b[0m in \u001b[0;36mforward\u001b[1;34m(self, X)\u001b[0m\n\u001b[0;32m    156\u001b[0m         \u001b[1;31m# Your final implementation shouldn't have any loops\u001b[0m\u001b[1;33m\u001b[0m\u001b[1;33m\u001b[0m\u001b[0m\n\u001b[0;32m    157\u001b[0m         \u001b[0mself\u001b[0m\u001b[1;33m.\u001b[0m\u001b[0mX\u001b[0m \u001b[1;33m=\u001b[0m \u001b[0mX\u001b[0m\u001b[1;33m.\u001b[0m\u001b[0mcopy\u001b[0m\u001b[1;33m(\u001b[0m\u001b[1;33m)\u001b[0m\u001b[1;33m\u001b[0m\u001b[0m\n\u001b[1;32m--> 158\u001b[1;33m         \u001b[1;32mreturn\u001b[0m \u001b[0mX\u001b[0m\u001b[1;33m.\u001b[0m\u001b[0mdot\u001b[0m\u001b[1;33m(\u001b[0m\u001b[0mself\u001b[0m\u001b[1;33m.\u001b[0m\u001b[0mW\u001b[0m\u001b[1;33m.\u001b[0m\u001b[0mvalue\u001b[0m\u001b[1;33m)\u001b[0m \u001b[1;33m+\u001b[0m \u001b[0mself\u001b[0m\u001b[1;33m.\u001b[0m\u001b[0mB\u001b[0m\u001b[1;33m.\u001b[0m\u001b[0mvalue\u001b[0m\u001b[1;33m\u001b[0m\u001b[0m\n\u001b[0m\u001b[0;32m    159\u001b[0m \u001b[1;33m\u001b[0m\u001b[0m\n\u001b[0;32m    160\u001b[0m     \u001b[1;32mdef\u001b[0m \u001b[0mbackward\u001b[0m\u001b[1;33m(\u001b[0m\u001b[0mself\u001b[0m\u001b[1;33m,\u001b[0m \u001b[0md_out\u001b[0m\u001b[1;33m)\u001b[0m\u001b[1;33m:\u001b[0m\u001b[1;33m\u001b[0m\u001b[0m\n",
      "\u001b[1;31mKeyboardInterrupt\u001b[0m: "
     ]
    }
   ],
   "source": [
    "# Let's train the best one-hidden-layer network we can\n",
    "\n",
    "learning_rates = 1e-4\n",
    "reg_strength = 1e-3\n",
    "learning_rate_decay = 0.99\n",
    "hidden_layer_size = 128\n",
    "num_epochs = 200\n",
    "batch_size = 5\n",
    "\n",
    "best_classifier = None\n",
    "best_val_accuracy = None\n",
    "\n",
    "loss_history = []\n",
    "train_history = []\n",
    "val_history = []\n",
    "\n",
    "model = TwoLayerNet(n_input = train_X.shape[1], n_output = 10, hidden_layer_size = hidden_layer_size, reg = reg_strength)\n",
    "dataset = Dataset(train_X[:data_size], train_y[:data_size], val_X[:data_size], val_y[:data_size])\n",
    "trainer = Trainer(model, dataset, MomentumSGD(), learning_rate=learning_rates, num_epochs=num_epochs, batch_size=batch_size)\n",
    "loss_history, train_history, val_history = trainer.fit()\n",
    "\n",
    "# TODO find the best hyperparameters to train the network\n",
    "# Don't hesitate to add new values to the arrays above, perform experiments, use any tricks you want\n",
    "# You should expect to get to at least 40% of valudation accuracy\n",
    "# Save loss/train/history of the best classifier to the variables above\n",
    "\n",
    "# print('best validation accuracy achieved: %f' % best_val_accuracy)"
   ]
  },
  {
   "cell_type": "code",
   "execution_count": 186,
   "metadata": {},
   "outputs": [
    {
     "data": {
      "text/plain": [
       "[<matplotlib.lines.Line2D at 0x1c3233981d0>]"
      ]
     },
     "execution_count": 186,
     "metadata": {},
     "output_type": "execute_result"
    },
    {
     "data": {
      "image/png": "[encoded data removed]",
      "text/plain": [
       "<matplotlib.figure.Figure at 0x1c3232dbc18>"
      ]
     },
     "metadata": {},
     "output_type": "display_data"
    }
   ],
   "source": [
    "plt.figure(figsize=(15, 7))\n",
    "plt.subplot(211)\n",
    "plt.title(\"Loss\")\n",
    "plt.plot(loss_history)\n",
    "plt.subplot(212)\n",
    "plt.title(\"Train/validation accuracy\")\n",
    "plt.plot(train_history)\n",
    "plt.plot(val_history)"
   ]
  },
  {
   "cell_type": "markdown",
   "metadata": {},
   "source": [
    "# Как обычно, посмотрим, как наша лучшая модель работает на тестовых данных"
   ]
  },
  {
   "cell_type": "code",
   "execution_count": 152,
   "metadata": {},
   "outputs": [
    {
     "name": "stdout",
     "output_type": "stream",
     "text": [
      "Neural net test set accuracy: 0.537000\n"
     ]
    }
   ],
   "source": [
    "test_pred = best_classifier.predict(test_X)\n",
    "test_accuracy = multiclass_accuracy(test_pred, test_y)\n",
    "print('Neural net test set accuracy: %f' % (test_accuracy, ))"
   ]
  }
 ],
 "metadata": {
  "kernelspec": {
   "display_name": "Python 3",
   "language": "python",
   "name": "python3"
  },
  "language_info": {
   "codemirror_mode": {
    "name": "ipython",
    "version": 3
   },
   "file_extension": ".py",
   "mimetype": "text/x-python",
   "name": "python",
   "nbconvert_exporter": "python",
   "pygments_lexer": "ipython3",
   "version": "3.6.1"
  }
 },
 "nbformat": 4,
 "nbformat_minor": 2
}
